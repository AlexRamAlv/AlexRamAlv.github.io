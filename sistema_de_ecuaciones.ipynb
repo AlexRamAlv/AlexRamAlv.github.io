{
  "nbformat": 4,
  "nbformat_minor": 0,
  "metadata": {
    "colab": {
      "name": "sistema de ecuaciones.ipynb",
      "provenance": [],
      "authorship_tag": "ABX9TyN+RpH6S/inbuDMfVbNPrsx",
      "include_colab_link": true
    },
    "kernelspec": {
      "name": "python3",
      "display_name": "Python 3"
    }
  },
  "cells": [
    {
      "cell_type": "markdown",
      "metadata": {
        "id": "view-in-github",
        "colab_type": "text"
      },
      "source": [
        "<a href=\"https://colab.research.google.com/github/AlexRamAlv/AlexRamAlv.github.io/blob/gh-pages/sistema_de_ecuaciones.ipynb\" target=\"_parent\"><img src=\"https://colab.research.google.com/assets/colab-badge.svg\" alt=\"Open In Colab\"/></a>"
      ]
    },
    {
      "cell_type": "code",
      "metadata": {
        "id": "1uoadjTjncqA",
        "outputId": "945778bc-b41a-451e-c8e1-22ed1c853b62",
        "colab": {
          "base_uri": "https://localhost:8080/"
        }
      },
      "source": [
        "def ecuaciones(a, b, c):\n",
        "  print('Ecuacion #1')\n",
        "  print(25 * '=')\n",
        "  a = a \n",
        "  b = b  \n",
        "  c = c\n",
        "  text = 'Esta es tu ecuación: => {}x + {}y = {}'\n",
        "  print(text.format(a, b, c))\n",
        "  print(25 * '=')\n",
        "\n",
        "\"\"\"vamos a calcular sistemas de ecuaciones lineales con dos incógnitas'\n",
        "Solo necesitas ingresar los coeficientes de cada ecuacion segun se solicite'\n",
        "Las ecuaciones tienen la forma: ax + by = c\"\"\"\n",
        "\n",
        "print('Dame los coeficientes de la 1era ecuación:')\n",
        "a = int(input('Coeficeinte 1: '))\n",
        "b = int(input('Coeficeinte 2: '))\n",
        "c = int(input('Coeficeinte 3: '))\n",
        "\n",
        "ecuaciones(a, b, c)\n",
        "\n",
        "print('Dame los coeficientes de la 2da ecuación:')\n",
        "a1 = int(input('Coeficeinte 1: '))\n",
        "b1 = int(input('Coeficeinte 2: '))\n",
        "c1 = int(input('Coeficeinte 3: '))\n",
        "\n",
        "ecuaciones(a1, b1, c1)\n"
      ],
      "execution_count": 50,
      "outputs": [
        {
          "output_type": "stream",
          "text": [
            "Dame los coeficientes de la 1era ecuación:\n",
            "Coeficeinte 1: 3\n",
            "Coeficeinte 2: 2\n",
            "Coeficeinte 3: 1\n",
            "Ecuacion #1\n",
            "=========================\n",
            "Esta es tu ecuación: => 3x + 2y = 1\n",
            "=========================\n",
            "Dame los coeficientes de la 2da ecuación:\n",
            "Coeficeinte 1: 5\n",
            "Coeficeinte 2: 4\n",
            "Coeficeinte 3: 3\n",
            "Ecuacion #1\n",
            "=========================\n",
            "Esta es tu ecuación: => 5x + 4y = 3\n",
            "=========================\n"
          ],
          "name": "stdout"
        }
      ]
    }
  ]
}